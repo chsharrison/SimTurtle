{
 "metadata": {
  "name": "",
  "signature": "sha256:dfa40178dc4483cf0045bc4bae88c060683711dd8b6946a762aa1d2f8c32abe8"
 },
 "nbformat": 3,
 "nbformat_minor": 0,
 "worksheets": [
  {
   "cells": [
    {
     "cell_type": "raw",
     "metadata": {},
     "source": [
      "code to make CMS releaseFile\n",
      "\n",
      "need to take an array of releases and write each one\n",
      "\n",
      "Technical difficulty is moving between N-D arrays and linear (i.e. flat) indexing.\n",
      "See this link:\n",
      "http://stackoverflow.com/questions/15230179/how-to-get-the-linear-index-for-a-numpy-array-sub2ind\n",
      "But I think this is what I want:\n",
      "http://docs.scipy.org/doc/numpy/reference/generated/numpy.flatiter.html#numpy.flatiter\n",
      "But how do I go back from output to an array? Worry about that later\n",
      "\n",
      "\n",
      "Example from releaseFile:\n",
      "1   274.0  24.1  0  1  2010  1  1  0\n",
      "\n",
      "polygon (can just use a number if not using this)\n",
      "lon\n",
      "lat\n",
      "depth (m)\n",
      "number of releases (this only makes sense if using the turbulence module)\n",
      "release year\n",
      "release mo\n",
      "release day\n",
      "release seconds\n"
     ]
    },
    {
     "cell_type": "code",
     "collapsed": false,
     "input": [
      "polygon = '1'\n",
      "depth = '0'\n",
      "nr = '1'\n",
      "s = '0'"
     ],
     "language": "python",
     "metadata": {},
     "outputs": [],
     "prompt_number": 35
    },
    {
     "cell_type": "code",
     "collapsed": false,
     "input": [
      "yr = '0001'\n",
      "mo = '9'\n",
      "d = '3'"
     ],
     "language": "python",
     "metadata": {},
     "outputs": [],
     "prompt_number": 2
    },
    {
     "cell_type": "code",
     "collapsed": false,
     "input": [
      "import numpy as np"
     ],
     "language": "python",
     "metadata": {},
     "outputs": [],
     "prompt_number": 3
    },
    {
     "cell_type": "code",
     "collapsed": false,
     "input": [
      "# make a range of lat and lon \n",
      "rlon = np.arange(304,307,1)\n",
      "rlat = np.arange(-48,-41,1)\n",
      "RLON,RLAT = np.meshgrid(rlon,rlat)\n"
     ],
     "language": "python",
     "metadata": {},
     "outputs": [],
     "prompt_number": 20
    },
    {
     "cell_type": "code",
     "collapsed": false,
     "input": [
      "f = open('release_test', 'w')\n",
      "wstr = polygon+' '+str(RLON[0,0])+' '+str(RLAT[0,0])+' '+depth+' ' \\\n",
      "    +nr+' '+yr+' '+mo+' '+d+'\\n'\n",
      "f.write(wstr)\n",
      "f.write(wstr)\n",
      "f.close()"
     ],
     "language": "python",
     "metadata": {},
     "outputs": [],
     "prompt_number": 56
    },
    {
     "cell_type": "code",
     "collapsed": false,
     "input": [
      "# for each element/particle write to rleaseFile\n",
      "\n",
      "rfile = 'release_test'\n",
      "\n",
      "# release grid\n",
      "latmin = -48\n",
      "latmax = -41\n",
      "dlat = 1\n",
      "lonmin = 304\n",
      "lonmax = 307\n",
      "dlon = 1\n",
      "\n",
      "# release date\n",
      "yr = '0001'\n",
      "mo = '9'\n",
      "d = '3'\n",
      "\n",
      "# unlikely to modify\n",
      "polygon = '1'\n",
      "depth = '0'\n",
      "nr = '1'\n",
      "s = '0'\n",
      "\n",
      "# make a range of lat and lon \n",
      "rlon = np.arange(latmin,latmax+dlat,dlat)\n",
      "rlat = np.arange(lonmin,lonmax+dlon,dlon)\n",
      "RLON,RLAT = np.meshgrid(rlon,rlat)\n",
      "\n",
      "# open file, clobbers automatically\n",
      "f = open(rfile, 'w')\n",
      "\n",
      "# loop through lat/lon array and write info for each particle\n",
      "\n",
      "for index in range(0,RLAT.size,1):\n",
      "\n",
      "    wstr = polygon+' '+str(RLON.flat[index])+' '+str(RLAT.flat[index])+' ' \\\n",
      "        + depth+' '+nr+' '+yr+' '+mo+' '+d+' '+s+'\\n'\n",
      "    f.write(wstr)\n",
      "    \n",
      "f.close()\n",
      "    "
     ],
     "language": "python",
     "metadata": {},
     "outputs": [],
     "prompt_number": 67
    },
    {
     "cell_type": "code",
     "collapsed": false,
     "input": [
      "    f.close()"
     ],
     "language": "python",
     "metadata": {},
     "outputs": []
    },
    {
     "cell_type": "heading",
     "level": 2,
     "metadata": {},
     "source": [
      "Scratch"
     ]
    },
    {
     "cell_type": "code",
     "collapsed": false,
     "input": [
      "RLAT.size"
     ],
     "language": "python",
     "metadata": {},
     "outputs": [
      {
       "metadata": {},
       "output_type": "pyout",
       "prompt_number": 51,
       "text": [
        "21"
       ]
      }
     ],
     "prompt_number": 51
    },
    {
     "cell_type": "code",
     "collapsed": false,
     "input": [
      "np.arange(0,RLAT.size,1)"
     ],
     "language": "python",
     "metadata": {},
     "outputs": [
      {
       "metadata": {},
       "output_type": "pyout",
       "prompt_number": 54,
       "text": [
        "array([ 0,  1,  2,  3,  4,  5,  6,  7,  8,  9, 10, 11, 12, 13, 14, 15, 16,\n",
        "       17, 18, 19, 20, 21])"
       ]
      }
     ],
     "prompt_number": 54
    },
    {
     "cell_type": "code",
     "collapsed": false,
     "input": [
      "index = 2\n",
      "\n",
      "wstr = polygon+' '+str(RLON.flat[index])+' '+str(RLAT.flat[index])+' ' \\\n",
      "        + depth+' '+nr+' '+yr+' '+mo+' '+d+'\\n'"
     ],
     "language": "python",
     "metadata": {},
     "outputs": [],
     "prompt_number": 61
    },
    {
     "cell_type": "code",
     "collapsed": false,
     "input": [
      "RLAT.ravel()"
     ],
     "language": "python",
     "metadata": {},
     "outputs": [
      {
       "metadata": {},
       "output_type": "pyout",
       "prompt_number": 42,
       "text": [
        "array([-48, -47, -46, -45, -44, -43, -42, -48, -47, -46, -45, -44, -43,\n",
        "       -42, -48, -47, -46, -45, -44, -43, -42])"
       ]
      }
     ],
     "prompt_number": 42
    },
    {
     "cell_type": "code",
     "collapsed": false,
     "input": [
      "str(RLAT.flat[2])"
     ],
     "language": "python",
     "metadata": {},
     "outputs": [
      {
       "metadata": {},
       "output_type": "pyout",
       "prompt_number": 55,
       "text": [
        "'-48'"
       ]
      }
     ],
     "prompt_number": 55
    },
    {
     "cell_type": "code",
     "collapsed": false,
     "input": [
      "RLAT.flatten()"
     ],
     "language": "python",
     "metadata": {},
     "outputs": [
      {
       "metadata": {},
       "output_type": "pyout",
       "prompt_number": 43,
       "text": [
        "array([-48, -47, -46, -45, -44, -43, -42, -48, -47, -46, -45, -44, -43,\n",
        "       -42, -48, -47, -46, -45, -44, -43, -42])"
       ]
      }
     ],
     "prompt_number": 43
    },
    {
     "cell_type": "code",
     "collapsed": false,
     "input": [
      "str(9)"
     ],
     "language": "python",
     "metadata": {},
     "outputs": [
      {
       "metadata": {},
       "output_type": "pyout",
       "prompt_number": 38,
       "text": [
        "'9'"
       ]
      }
     ],
     "prompt_number": 38
    },
    {
     "cell_type": "code",
     "collapsed": false,
     "input": [
      "1,4,1"
     ],
     "language": "python",
     "metadata": {},
     "outputs": [
      {
       "metadata": {},
       "output_type": "pyout",
       "prompt_number": 62,
       "text": [
        "(1, 4, 1)"
       ]
      }
     ],
     "prompt_number": 62
    },
    {
     "cell_type": "code",
     "collapsed": false,
     "input": [
      "range(1,34,1)"
     ],
     "language": "python",
     "metadata": {},
     "outputs": [
      {
       "metadata": {},
       "output_type": "pyout",
       "prompt_number": 63,
       "text": [
        "[1,\n",
        " 2,\n",
        " 3,\n",
        " 4,\n",
        " 5,\n",
        " 6,\n",
        " 7,\n",
        " 8,\n",
        " 9,\n",
        " 10,\n",
        " 11,\n",
        " 12,\n",
        " 13,\n",
        " 14,\n",
        " 15,\n",
        " 16,\n",
        " 17,\n",
        " 18,\n",
        " 19,\n",
        " 20,\n",
        " 21,\n",
        " 22,\n",
        " 23,\n",
        " 24,\n",
        " 25,\n",
        " 26,\n",
        " 27,\n",
        " 28,\n",
        " 29,\n",
        " 30,\n",
        " 31,\n",
        " 32,\n",
        " 33]"
       ]
      }
     ],
     "prompt_number": 63
    },
    {
     "cell_type": "code",
     "collapsed": false,
     "input": [],
     "language": "python",
     "metadata": {},
     "outputs": []
    }
   ],
   "metadata": {}
  }
 ]
}