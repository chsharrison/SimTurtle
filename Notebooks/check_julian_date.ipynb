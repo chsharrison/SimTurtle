{
 "metadata": {
  "name": "",
  "signature": "sha256:b37ecb5c38888785fe8f3e8525f6b0367fa908cadf4646f86a734db2825f181f"
 },
 "nbformat": 3,
 "nbformat_minor": 0,
 "worksheets": [
  {
   "cells": [
    {
     "cell_type": "code",
     "collapsed": false,
     "input": [
      "%matplotlib inline\n",
      "import numpy as np\n",
      "import matplotlib.pyplot as plt\n",
      "import netCDF4 as nc\n",
      "import os"
     ],
     "language": "python",
     "metadata": {},
     "outputs": [],
     "prompt_number": 1
    },
    {
     "cell_type": "code",
     "collapsed": false,
     "input": [
      "np.mod(2,10)"
     ],
     "language": "python",
     "metadata": {},
     "outputs": [
      {
       "metadata": {},
       "output_type": "pyout",
       "prompt_number": 5,
       "text": [
        "2"
       ]
      }
     ],
     "prompt_number": 5
    },
    {
     "cell_type": "code",
     "collapsed": false,
     "input": [
      "!converts julian date number to calendar date\n",
      "\n",
      "jd = 1721672\n",
      "                                                                                                                          \n",
      "j = jd + 32044\n",
      "g = int(j/146097) \n",
      "                                                \n",
      "dg = np.mod(j, 146097)\n",
      "c = int((int(dg/36524) + 1) * 3 / 4) \n",
      "dc = dg - c * 36524\n",
      "b = int(dc/1461)\n",
      "db = np.mod(dc, 1461)\n",
      "a = int((int(db/365) + 1) * 3 / 4) \n",
      "da = db - a * 365\n",
      "yyyy = g * 400 + c * 100 + b * 4 + a\n",
      "mm = int((da * 5 + 308)/ 153) - 2\n",
      "dd = int(da - (mm + 4) * 153 / 5) + 122\n",
      "yyyy = int(yyyy - 4800 + (mm + 2) / 12)\n",
      "mm = np.mod((mm + 2),12) + 1\n",
      "dd = dd + 1\n",
      "\n",
      "print yyyy, mm, dd"
     ],
     "language": "python",
     "metadata": {},
     "outputs": [
      {
       "output_type": "stream",
       "stream": "stdout",
       "text": [
        "/bin/sh: converts: command not found\r\n"
       ]
      },
      {
       "output_type": "stream",
       "stream": "stdout",
       "text": [
        "1 9 4\n"
       ]
      }
     ],
     "prompt_number": 7
    },
    {
     "cell_type": "code",
     "collapsed": false,
     "input": [
      "# so according to this alg it's fine"
     ],
     "language": "python",
     "metadata": {},
     "outputs": []
    }
   ],
   "metadata": {}
  }
 ]
}