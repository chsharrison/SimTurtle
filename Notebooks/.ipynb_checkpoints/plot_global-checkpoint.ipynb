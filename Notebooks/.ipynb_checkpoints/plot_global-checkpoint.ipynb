{
 "metadata": {
  "name": "",
  "signature": "sha256:8e1f47e26306c5a24ee6bd08d85d59a7f1aa91d00c4c2ca78a140db0b95eef62"
 },
 "nbformat": 3,
 "nbformat_minor": 0,
 "worksheets": []
}