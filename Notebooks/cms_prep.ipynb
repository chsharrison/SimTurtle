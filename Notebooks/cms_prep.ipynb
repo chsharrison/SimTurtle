{
 "metadata": {
  "name": "",
  "signature": "sha256:359b9f0b2073f5689f42ff3c68208acdc1c86335094e7ffb613f92c8620c1f56"
 },
 "nbformat": 3,
 "nbformat_minor": 0,
 "worksheets": [
  {
   "cells": [
    {
     "cell_type": "markdown",
     "metadata": {},
     "source": [
      "get aviso data and write into weekly files\n",
      "easier to do this with ncks, can I make a wrapper for this?\n"
     ]
    },
    {
     "cell_type": "code",
     "collapsed": false,
     "input": [
      "%matplotlib inline\n",
      "import numpy as np\n",
      "import matplotlib.pyplot as plt\n",
      "import netCDF4 as nc\n",
      "import os"
     ],
     "language": "python",
     "metadata": {},
     "outputs": [],
     "prompt_number": 1
    },
    {
     "cell_type": "code",
     "collapsed": false,
     "input": [],
     "language": "python",
     "metadata": {},
     "outputs": [],
     "prompt_number": 1
    },
    {
     "cell_type": "code",
     "collapsed": false,
     "input": [
      "path = '/glade/p/work/chsharri/AVISO_data/ATL/'\n",
      "myfile = 'upd-global-merged-madt-uv.nc'\n",
      "mydata = nc.Dataset(path+myfile,'r')"
     ],
     "language": "python",
     "metadata": {},
     "outputs": [],
     "prompt_number": 2
    },
    {
     "cell_type": "code",
     "collapsed": false,
     "input": [
      "aviso_time = mydata.variables['time'][:]\n",
      "#time:valid_min = 462408 ;\n",
      "#time:valid_max = 501048 ;"
     ],
     "language": "python",
     "metadata": {},
     "outputs": [],
     "prompt_number": 4
    },
    {
     "cell_type": "code",
     "collapsed": false,
     "input": [
      "print aviso_time[0]"
     ],
     "language": "python",
     "metadata": {},
     "outputs": [
      {
       "output_type": "stream",
       "stream": "stdout",
       "text": [
        "462408\n"
       ]
      }
     ],
     "prompt_number": 6
    },
    {
     "cell_type": "code",
     "collapsed": false,
     "input": [
      "# get weekly aviso u,v for ATL\n",
      "# break into weekly snapshots with correct naming:\n",
      "# nest nestnumber yyyymmddhhmmss.nc\n",
      "# do this for a few months (10 weeks)\n",
      "# the format string I want is:\n",
      "\n",
      "format_str = '%Y%m%d%H%M%S'\n",
      "t = datetime.date.today()\n",
      "t.strftime(format_str)\n",
      "# that looks like it will work"
     ],
     "language": "python",
     "metadata": {},
     "outputs": [
      {
       "ename": "NameError",
       "evalue": "name 'datetime' is not defined",
       "output_type": "pyerr",
       "traceback": [
        "\u001b[1;31m---------------------------------------------------------------------------\u001b[0m\n\u001b[1;31mNameError\u001b[0m                                 Traceback (most recent call last)",
        "\u001b[1;32m<ipython-input-7-cc3563c9a57a>\u001b[0m in \u001b[0;36m<module>\u001b[1;34m()\u001b[0m\n\u001b[0;32m      6\u001b[0m \u001b[1;33m\u001b[0m\u001b[0m\n\u001b[0;32m      7\u001b[0m \u001b[0mformat_str\u001b[0m \u001b[1;33m=\u001b[0m \u001b[1;34m'%Y%m%d%H%M%S'\u001b[0m\u001b[1;33m\u001b[0m\u001b[0m\n\u001b[1;32m----> 8\u001b[1;33m \u001b[0mt\u001b[0m \u001b[1;33m=\u001b[0m \u001b[0mdatetime\u001b[0m\u001b[1;33m.\u001b[0m\u001b[0mdate\u001b[0m\u001b[1;33m.\u001b[0m\u001b[0mtoday\u001b[0m\u001b[1;33m(\u001b[0m\u001b[1;33m)\u001b[0m\u001b[1;33m\u001b[0m\u001b[0m\n\u001b[0m\u001b[0;32m      9\u001b[0m \u001b[0mt\u001b[0m\u001b[1;33m.\u001b[0m\u001b[0mstrftime\u001b[0m\u001b[1;33m(\u001b[0m\u001b[0mformat_str\u001b[0m\u001b[1;33m)\u001b[0m\u001b[1;33m\u001b[0m\u001b[0m\n\u001b[0;32m     10\u001b[0m \u001b[1;31m# that looks like it will work\u001b[0m\u001b[1;33m\u001b[0m\u001b[1;33m\u001b[0m\u001b[0m\n",
        "\u001b[1;31mNameError\u001b[0m: name 'datetime' is not defined"
       ]
      }
     ],
     "prompt_number": 7
    },
    {
     "cell_type": "code",
     "collapsed": false,
     "input": [
      "base_date = datetime.datetime(1950,1,1)\n",
      "# need to get first time and convert it to a date\n",
      "t = 2\n",
      "adate = aviso_time[t]/24.0\n",
      "new_date = base_date + datetime.timedelta(adate)\n",
      "print new_date\n",
      "new_date.strftime(format_str)\n",
      "# good enough"
     ],
     "language": "python",
     "metadata": {},
     "outputs": []
    },
    {
     "cell_type": "code",
     "collapsed": false,
     "input": [
      "test = datetime.timedelta(adate)"
     ],
     "language": "python",
     "metadata": {},
     "outputs": []
    },
    {
     "cell_type": "code",
     "collapsed": false,
     "input": [
      "cd  /glade/p/work/chsharri/AVISO_data/ATL"
     ],
     "language": "python",
     "metadata": {},
     "outputs": []
    },
    {
     "cell_type": "code",
     "collapsed": false,
     "input": [
      "# make a for-loop to go through and save a bunch of them, passing time to bash command\n",
      "\n",
      "import os\n",
      "\n",
      "for t in range(0,10):\n",
      "    adate = aviso_time[t]/24.0\n",
      "    new_date = base_date + datetime.timedelta(adate)\n",
      "    # convert t into a date string\n",
      "    bash_command = \"ncks -d time,\" + str(t) + \" upd-global-merged-madt-uv.nc nest_1_\" + new_date.strftime(format_str) +\".nc\"\n",
      "    os.system(bash_command)\n"
     ],
     "language": "python",
     "metadata": {},
     "outputs": []
    },
    {
     "cell_type": "code",
     "collapsed": false,
     "input": [
      "for t in range(0,10):\n",
      "    adate = aviso_time[t]/24.0\n",
      "    new_date = base_date + datetime.timedelta(adate)\n",
      "    bash_command = \"mv  nest1\" + new_date.strftime(format_str) +\".nc  nest_1_\" + new_date.strftime(format_str) +\".nc\"\n",
      "    os.system(bash_command)\n",
      "    "
     ],
     "language": "python",
     "metadata": {},
     "outputs": []
    },
    {
     "cell_type": "code",
     "collapsed": false,
     "input": [
      "# ne"
     ],
     "language": "python",
     "metadata": {},
     "outputs": []
    },
    {
     "cell_type": "code",
     "collapsed": false,
     "input": [
      "import datetime"
     ],
     "language": "python",
     "metadata": {},
     "outputs": []
    },
    {
     "cell_type": "code",
     "collapsed": false,
     "input": [
      "# aviso is hours since 1950-01-01\n",
      "t = datetime.datetime(1950,1,1)"
     ],
     "language": "python",
     "metadata": {},
     "outputs": []
    },
    {
     "cell_type": "code",
     "collapsed": false,
     "input": [
      "# calculate at time delta\n",
      "t = datetime.datetime(1950,1,1)\n",
      "t2 = datetime.datetime(1950,2,2)\n",
      "t2=t2-t\n",
      "print t2\n",
      "# note that the output is always in days"
     ],
     "language": "python",
     "metadata": {},
     "outputs": []
    },
    {
     "cell_type": "code",
     "collapsed": false,
     "input": [
      "t2*2\n",
      "# you can do this with timedeltas but not with datetimes"
     ],
     "language": "python",
     "metadata": {},
     "outputs": []
    },
    {
     "cell_type": "code",
     "collapsed": false,
     "input": [
      "str(t)"
     ],
     "language": "python",
     "metadata": {},
     "outputs": []
    },
    {
     "cell_type": "code",
     "collapsed": false,
     "input": [
      "print t"
     ],
     "language": "python",
     "metadata": {},
     "outputs": []
    },
    {
     "cell_type": "heading",
     "level": 1,
     "metadata": {},
     "source": [
      "Dates in numpy"
     ]
    },
    {
     "cell_type": "code",
     "collapsed": false,
     "input": [
      "# or one can do it this way with numpy:\n",
      "\n",
      "ttest = np.datetime64('1950-01-01')\n",
      "print ttest\n"
     ],
     "language": "python",
     "metadata": {},
     "outputs": []
    },
    {
     "cell_type": "code",
     "collapsed": false,
     "input": [
      "np.datetime64('2009-01-01') - np.datetime64('2008-01-01')"
     ],
     "language": "python",
     "metadata": {},
     "outputs": []
    },
    {
     "cell_type": "code",
     "collapsed": false,
     "input": [
      "matplotlib.dates.date2num?"
     ],
     "language": "python",
     "metadata": {},
     "outputs": []
    },
    {
     "cell_type": "heading",
     "level": 1,
     "metadata": {},
     "source": [
      "More Date fun"
     ]
    },
    {
     "cell_type": "code",
     "collapsed": false,
     "input": [
      "test = datetime.timedelta(hours = 500)\n",
      "# in this way, one can make a timedelta out of hours, this will be helpful\n",
      "# with the aviso data, which is in delta hours"
     ],
     "language": "python",
     "metadata": {},
     "outputs": []
    },
    {
     "cell_type": "code",
     "collapsed": false,
     "input": [
      "print test"
     ],
     "language": "python",
     "metadata": {},
     "outputs": []
    },
    {
     "cell_type": "code",
     "collapsed": false,
     "input": [
      "datetime.date.today()"
     ],
     "language": "python",
     "metadata": {},
     "outputs": []
    },
    {
     "cell_type": "code",
     "collapsed": false,
     "input": [
      "# seconds in a week\n",
      "86400*7"
     ],
     "language": "python",
     "metadata": {},
     "outputs": []
    },
    {
     "cell_type": "heading",
     "level": 1,
     "metadata": {},
     "source": [
      "That was a big pain, AVISO data (at least this old stuff) needs to be transposed. Try with some southern ocean CESM output\n"
     ]
    },
    {
     "cell_type": "code",
     "collapsed": false,
     "input": [
      "# get a series of surface velocities from 5 day files. Just using u,v, so just use lat/lon from that\n",
      "\n",
      "path = '/glade/scratch/mclong/hi-res-eco/g.e11.G.T62_t12.eco.006/ocn/hist/'\n",
      "\n",
      "date = '1-09-02'\n",
      "\n",
      "myfile = 'g.e11.G.T62_t12.eco.006.pop.h.000' + date + '.nc' \n",
      "mydata = nc.Dataset(path+myfile,'r')"
     ],
     "language": "python",
     "metadata": {},
     "outputs": [],
     "prompt_number": 5
    },
    {
     "cell_type": "code",
     "collapsed": false,
     "input": [
      "ulat = mydata.variables['ULAT'][:]\n",
      "ulon = mydata.variables['ULONG'][:]"
     ],
     "language": "python",
     "metadata": {},
     "outputs": [],
     "prompt_number": 6
    },
    {
     "cell_type": "code",
     "collapsed": false,
     "input": [
      "tlat = mydata.variables['TLAT'][:]\n",
      "tlon = mydata.variables['TLONG'][:]"
     ],
     "language": "python",
     "metadata": {},
     "outputs": [],
     "prompt_number": 7
    },
    {
     "cell_type": "code",
     "collapsed": false,
     "input": [
      "ulon.shape\n",
      "# this is nlat, nlong"
     ],
     "language": "python",
     "metadata": {},
     "outputs": [
      {
       "metadata": {},
       "output_type": "pyout",
       "prompt_number": 8,
       "text": [
        "(2400, 3600)"
       ]
      }
     ],
     "prompt_number": 8
    },
    {
     "cell_type": "code",
     "collapsed": false,
     "input": [
      "ulon[1000,::]"
     ],
     "language": "python",
     "metadata": {},
     "outputs": [
      {
       "metadata": {},
       "output_type": "pyout",
       "prompt_number": 9,
       "text": [
        "array([-109.9, -109.8, -109.7, ..., -110.2, -110.1, -110. ])"
       ]
      }
     ],
     "prompt_number": 9
    },
    {
     "cell_type": "code",
     "collapsed": false,
     "input": [
      "# TLONS ARE 0 TO 360\n",
      "#for i in range(0,2400,10):\n",
      "plt.plot(tlon[1,:])\n",
      "plt.plot(tlon[10,:])\n",
      "plt.plot(tlon[100,:])\n",
      "plt.plot(tlon[1000,:])"
     ],
     "language": "python",
     "metadata": {},
     "outputs": [
      {
       "metadata": {},
       "output_type": "pyout",
       "prompt_number": 10,
       "text": [
        "[<matplotlib.lines.Line2D at 0x2b7d2ed38d90>]"
       ]
      },
      {
       "metadata": {},
       "output_type": "display_data",
       "png": "[encoded data removed]",
       "text": [
        "<matplotlib.figure.Figure at 0x2b7d057ffa10>"
       ]
      }
     ],
     "prompt_number": 10
    },
    {
     "cell_type": "code",
     "collapsed": false,
     "input": [
      "# ULONGs are -180 to 180\n",
      "#for i in range(0,2400,10):\n",
      "plt.plot(ulon[1,:])\n",
      "plt.plot(ulon[10,:])\n",
      "plt.plot(ulon[100,:])\n",
      "plt.plot(ulon[1000,:])"
     ],
     "language": "python",
     "metadata": {},
     "outputs": [
      {
       "metadata": {},
       "output_type": "pyout",
       "prompt_number": 11,
       "text": [
        "[<matplotlib.lines.Line2D at 0x2b7d0679c090>]"
       ]
      },
      {
       "metadata": {},
       "output_type": "display_data",
       "png": "[encoded data removed]",
       "text": [
        "<matplotlib.figure.Figure at 0x2b7d0640e050>"
       ]
      }
     ],
     "prompt_number": 11
    },
    {
     "cell_type": "code",
     "collapsed": false,
     "input": [
      "for i in range(0,1400,10):\n",
      "    plt.plot(lon[i,:])"
     ],
     "language": "python",
     "metadata": {},
     "outputs": [
      {
       "ename": "NameError",
       "evalue": "name 'lon' is not defined",
       "output_type": "pyerr",
       "traceback": [
        "\u001b[1;31m---------------------------------------------------------------------------\u001b[0m\n\u001b[1;31mNameError\u001b[0m                                 Traceback (most recent call last)",
        "\u001b[1;32m<ipython-input-12-815d00b6c1f0>\u001b[0m in \u001b[0;36m<module>\u001b[1;34m()\u001b[0m\n\u001b[0;32m      1\u001b[0m \u001b[1;32mfor\u001b[0m \u001b[0mi\u001b[0m \u001b[1;32min\u001b[0m \u001b[0mrange\u001b[0m\u001b[1;33m(\u001b[0m\u001b[1;36m0\u001b[0m\u001b[1;33m,\u001b[0m\u001b[1;36m1400\u001b[0m\u001b[1;33m,\u001b[0m\u001b[1;36m10\u001b[0m\u001b[1;33m)\u001b[0m\u001b[1;33m:\u001b[0m\u001b[1;33m\u001b[0m\u001b[0m\n\u001b[1;32m----> 2\u001b[1;33m     \u001b[0mplt\u001b[0m\u001b[1;33m.\u001b[0m\u001b[0mplot\u001b[0m\u001b[1;33m(\u001b[0m\u001b[0mlon\u001b[0m\u001b[1;33m[\u001b[0m\u001b[0mi\u001b[0m\u001b[1;33m,\u001b[0m\u001b[1;33m:\u001b[0m\u001b[1;33m]\u001b[0m\u001b[1;33m)\u001b[0m\u001b[1;33m\u001b[0m\u001b[0m\n\u001b[0m",
        "\u001b[1;31mNameError\u001b[0m: name 'lon' is not defined"
       ]
      }
     ],
     "prompt_number": 12
    },
    {
     "cell_type": "code",
     "collapsed": false,
     "input": [
      "# so below some northern latitude, this should be very regular. So that if I compare j=1 and j = 2000, they should be exactly the same\n",
      "for i in range(0,3600,10):\n",
      "    plt.plot(lat[:,i])\n",
      "plt.xlim(1470, 1500)\n",
      "plt.ylim(27,31)"
     ],
     "language": "python",
     "metadata": {},
     "outputs": [
      {
       "ename": "NameError",
       "evalue": "name 'lat' is not defined",
       "output_type": "pyerr",
       "traceback": [
        "\u001b[1;31m---------------------------------------------------------------------------\u001b[0m\n\u001b[1;31mNameError\u001b[0m                                 Traceback (most recent call last)",
        "\u001b[1;32m<ipython-input-13-fa541f430c39>\u001b[0m in \u001b[0;36m<module>\u001b[1;34m()\u001b[0m\n\u001b[0;32m      1\u001b[0m \u001b[1;31m# so below some northern latitude, this should be very regular. So that if I compare j=1 and j = 2000, they should be exactly the same\u001b[0m\u001b[1;33m\u001b[0m\u001b[1;33m\u001b[0m\u001b[0m\n\u001b[0;32m      2\u001b[0m \u001b[1;32mfor\u001b[0m \u001b[0mi\u001b[0m \u001b[1;32min\u001b[0m \u001b[0mrange\u001b[0m\u001b[1;33m(\u001b[0m\u001b[1;36m0\u001b[0m\u001b[1;33m,\u001b[0m\u001b[1;36m3600\u001b[0m\u001b[1;33m,\u001b[0m\u001b[1;36m10\u001b[0m\u001b[1;33m)\u001b[0m\u001b[1;33m:\u001b[0m\u001b[1;33m\u001b[0m\u001b[0m\n\u001b[1;32m----> 3\u001b[1;33m     \u001b[0mplt\u001b[0m\u001b[1;33m.\u001b[0m\u001b[0mplot\u001b[0m\u001b[1;33m(\u001b[0m\u001b[0mlat\u001b[0m\u001b[1;33m[\u001b[0m\u001b[1;33m:\u001b[0m\u001b[1;33m,\u001b[0m\u001b[0mi\u001b[0m\u001b[1;33m]\u001b[0m\u001b[1;33m)\u001b[0m\u001b[1;33m\u001b[0m\u001b[0m\n\u001b[0m\u001b[0;32m      4\u001b[0m \u001b[0mplt\u001b[0m\u001b[1;33m.\u001b[0m\u001b[0mxlim\u001b[0m\u001b[1;33m(\u001b[0m\u001b[1;36m1470\u001b[0m\u001b[1;33m,\u001b[0m \u001b[1;36m1500\u001b[0m\u001b[1;33m)\u001b[0m\u001b[1;33m\u001b[0m\u001b[0m\n\u001b[0;32m      5\u001b[0m \u001b[0mplt\u001b[0m\u001b[1;33m.\u001b[0m\u001b[0mylim\u001b[0m\u001b[1;33m(\u001b[0m\u001b[1;36m27\u001b[0m\u001b[1;33m,\u001b[0m\u001b[1;36m31\u001b[0m\u001b[1;33m)\u001b[0m\u001b[1;33m\u001b[0m\u001b[0m\n",
        "\u001b[1;31mNameError\u001b[0m: name 'lat' is not defined"
       ]
      }
     ],
     "prompt_number": 13
    },
    {
     "cell_type": "code",
     "collapsed": false,
     "input": [
      " plt.plot(lat[:,100])"
     ],
     "language": "python",
     "metadata": {},
     "outputs": []
    },
    {
     "cell_type": "code",
     "collapsed": false,
     "input": [
      "lat[1475,1]"
     ],
     "language": "python",
     "metadata": {},
     "outputs": []
    },
    {
     "cell_type": "code",
     "collapsed": false,
     "input": [
      "plt.plot(lat[:,1] - lat[:,1400])\n",
      "# they diverge right before 1500, which is 30deg, so 25 deg is a reasonable cutoff"
     ],
     "language": "python",
     "metadata": {},
     "outputs": []
    },
    {
     "cell_type": "code",
     "collapsed": false,
     "input": [
      "# grab a chunk of the southern ocean velocity and save to files every 5 days\n",
      "# 70 s to 30 s (I think these have to be negative, check)\n",
      "latv = ulat[:,1]\n",
      "print latv[200]\n",
      "print latv[850]\n",
      "# 280 to 340 E:  = -20\n",
      "lonv = ulon[1,:]\n",
      "print lonv[300] + 360\n",
      "print lonv[900] + 360\n",
      "\n",
      "# so i = 200:850, j = 300:900"
     ],
     "language": "python",
     "metadata": {},
     "outputs": []
    },
    {
     "cell_type": "code",
     "collapsed": false,
     "input": [
      "plt.plot(lonv)"
     ],
     "language": "python",
     "metadata": {},
     "outputs": []
    },
    {
     "cell_type": "heading",
     "level": 2,
     "metadata": {},
     "source": [
      "Make new grid"
     ]
    },
    {
     "cell_type": "code",
     "collapsed": false,
     "input": [
      "# new file will have to have lat and lon as vectors\n",
      "\n",
      "# so if I cut off the velcity fields below 25N, then the grid totally fits what CMS needs. \n",
      "# can just subset the velocity fields, rewrite ulat and ulon as vectors, and that should be all it needs\n",
      "# I don't think CMS is using metadata for anything, just the file names\n",
      "\n",
      "# load up surface velocities\n",
      "# cut off northern hemisphere (> 1470), or do some subset\n",
      "# save ulat and ulon as vectors\n",
      "# write all of this to a file\n",
      "# that should be it\n",
      "\n",
      "#---------------------------------\n",
      "# load surface velocity into \n",
      "\n",
      "ncpath_in = '/glade/scratch/mclong/hi-res-eco/g.e11.G.T62_t12.eco.006/ocn/hist/'\n",
      "ncpath_out = '/glade/scratch/chsharri/Hi-res/'\n",
      "file_pre = 'g.e11.G.T62_t12.eco.006.pop.h.000'\n",
      "\n",
      "# need to loop over dates (mo + day, start with one month)\n",
      "date = '1-09-02'\n",
      "\n",
      "# loop over date goes here\n",
      "\n",
      "# declare input and output file names\n",
      "ncfile_in =  file_pre + date + '.nc'\n",
      "ncfile_out = file_pre + date + '.surf_vel_all.nc' \n",
      "\n",
      "#### LOAD Variables\n",
      "dset_in = nc.Dataset(ncpath_in + ncfile_in,'r')\n",
      "\n",
      "# just subset them here\n",
      "#lat_in = dset_in.variables['ULAT'][200:850,1]\n",
      "#lon_in = dset_in.variables['ULONG'][1,300:900]\n",
      "#u = dset_in.variables['UVEL'][:,0,200:850,300:900]\n",
      "#v = dset_in.variables['VVEL'][:,0,200:850,300:900]\n",
      "\n",
      "lat_in = dset_in.variables['ULAT'][:]\n",
      "lon_in = dset_in.variables['ULONG'][:]\n",
      "# just subset them here\n",
      "u = dset_in.variables['UVEL'][:,0,:,:]\n",
      "v = dset_in.variables['VVEL'][:,0,:,:]\n",
      "\n"
     ],
     "language": "python",
     "metadata": {},
     "outputs": [],
     "prompt_number": 14
    },
    {
     "cell_type": "code",
     "collapsed": false,
     "input": [
      "u.shape\n",
      "# (time, nlat, nlon)"
     ],
     "language": "python",
     "metadata": {},
     "outputs": []
    },
    {
     "cell_type": "code",
     "collapsed": false,
     "input": [
      "ulat.shape"
     ],
     "language": "python",
     "metadata": {},
     "outputs": []
    },
    {
     "cell_type": "code",
     "collapsed": false,
     "input": [
      "#------------------------------------------------\n",
      "# write netcdf file\n",
      "\n",
      "\n",
      "#### CREATE FILE TO WRITE OUTPUT TO AND ADD DIMENSIONS AND VARS\n",
      "dset_out = nc.Dataset(ncpath_out + ncfile_out,'w', clobber=True)\n",
      "# dims\n",
      "dset_out.createDimension('nlat', 2400)\n",
      "dset_out.createDimension('nlon', 3600)\n",
      "dset_out.createDimension('time', None)\n",
      "# vars\n",
      "lat_out = dset_out.createVariable('ULAT','f',('nlat','nlon'))\n",
      "lon_out = dset_out.createVariable('ULONG','f',('nlat','nlon'))\n",
      "\n",
      "#lat_out = dset_out.createVariable('ULAT','f',('nlat',))\n",
      "#lon_out = dset_out.createVariable('ULONG','f',('nlon',))\n",
      "u_out = dset_out.createVariable('UVEL','f',('time','nlat','nlon'))\n",
      "v_out = dset_out.createVariable('VVEL','f',('time','nlat','nlon'))\n",
      "\n",
      "\n",
      "# write new lat/lon\n",
      "lat_out[:] = lat_in\n",
      "lon_out[:] = lon_in\n",
      "u_out[:] = u\n",
      "v_out[:] = v\n",
      "\n",
      "dset_out.close()\n",
      "# this seems to have worked"
     ],
     "language": "python",
     "metadata": {},
     "outputs": []
    },
    {
     "cell_type": "code",
     "collapsed": false,
     "input": [
      "dset_out.close()"
     ],
     "language": "python",
     "metadata": {},
     "outputs": []
    },
    {
     "cell_type": "code",
     "collapsed": false,
     "input": [
      "lat_in.size"
     ],
     "language": "python",
     "metadata": {},
     "outputs": []
    },
    {
     "cell_type": "code",
     "collapsed": false,
     "input": [
      "days = ['02','07','12','17','22','27']\n",
      "for d in days:\n",
      "    print d\n",
      "    d?\n",
      "    print d + d\n",
      "    #date = yr + '-' + mo + '-' d \n",
      "    #print date"
     ],
     "language": "python",
     "metadata": {},
     "outputs": []
    },
    {
     "cell_type": "code",
     "collapsed": false,
     "input": [
      "lat_in[288]"
     ],
     "language": "python",
     "metadata": {},
     "outputs": []
    },
    {
     "cell_type": "heading",
     "level": 2,
     "metadata": {},
     "source": [
      "Set up links"
     ]
    },
    {
     "cell_type": "code",
     "collapsed": false,
     "input": [
      "# set up links that are like files\n",
      "# syntax:\n",
      "# ln -s filename linkname\n",
      "\n",
      "ncpath_in = '/glade/scratch/chsharri/Hi-res/'\n",
      "ncpath_out = '/glade/u/home/chsharri/Cms-master/expt/expt_Pat/raw/'\n",
      "file_pre = 'g.e11.G.T62_t12.eco.006.pop.h.'\n",
      "\n",
      "yr = '0001'\n",
      "mo = '09'\n",
      "days = ['02','07','12','17','22','27']\n",
      "#days = ['02']\n",
      "\n",
      "\n",
      "for d in days:\n",
      "    date = yr + '-' + mo + '-' + d \n",
      "    print date\n",
      "    \n",
      "    ncfile_in = ncpath_in + file_pre + date + '.surf_vel_test.nc'\n",
      "    lpath = ncpath_out + 'nest_1_' + yr + mo + d + '000000.nc'\n",
      "    bash_command = 'ln -s '+ ncfile_in +' '+ lpath\n",
      "    os.system(bash_command)\n",
      "\n",
      "   "
     ],
     "language": "python",
     "metadata": {},
     "outputs": []
    },
    {
     "cell_type": "code",
     "collapsed": false,
     "input": [
      "date"
     ],
     "language": "python",
     "metadata": {},
     "outputs": []
    },
    {
     "cell_type": "code",
     "collapsed": false,
     "input": [
      "ncfile_in = ncpath_in + file_pre + date + '.surf_vel_test.nc'\n",
      "ncfile_in"
     ],
     "language": "python",
     "metadata": {},
     "outputs": []
    },
    {
     "cell_type": "code",
     "collapsed": false,
     "input": [
      "lpath"
     ],
     "language": "python",
     "metadata": {},
     "outputs": []
    },
    {
     "cell_type": "code",
     "collapsed": false,
     "input": [
      "bash_command"
     ],
     "language": "python",
     "metadata": {},
     "outputs": []
    },
    {
     "cell_type": "code",
     "collapsed": false,
     "input": [
      "whos"
     ],
     "language": "python",
     "metadata": {},
     "outputs": [
      {
       "output_type": "stream",
       "stream": "stdout",
       "text": [
        "Interactive namespace is empty.\n"
       ]
      }
     ],
     "prompt_number": 1
    },
    {
     "cell_type": "code",
     "collapsed": false,
     "input": [
      "range(1,13)"
     ],
     "language": "python",
     "metadata": {},
     "outputs": [
      {
       "metadata": {},
       "output_type": "pyout",
       "prompt_number": 5,
       "text": [
        "[1, 2, 3, 4, 5, 6, 7, 8, 9, 10, 11, 12]"
       ]
      }
     ],
     "prompt_number": 5
    },
    {
     "cell_type": "code",
     "collapsed": false,
     "input": [
      "year = '0001'\n",
      "for mm in range(1,12+1):\n",
      "    if(mm <10): \n",
      "        mon  =  \"0\"+str(mm)\n",
      "    else:\n",
      "        mon  =  str(mm)\n",
      "        \n",
      "\tfor dd in range(1,31+1):\n",
      "\t\tif (dd<10):\n",
      "\t\t\tday = \"0\"+str(dd)\n",
      "\t\telse:\n",
      "\t\t\tday = str(dd)\n",
      "\t\t\n",
      "\t\tdate = year + \"-\" + mon + \"-\" + day\n",
      "\t\tprint date"
     ],
     "language": "python",
     "metadata": {},
     "outputs": [
      {
       "output_type": "stream",
       "stream": "stdout",
       "text": [
        "0001-10-01\n",
        "0001-10-02\n",
        "0001-10-03\n",
        "0001-10-04\n",
        "0001-10-05\n",
        "0001-10-06\n",
        "0001-10-07\n",
        "0001-10-08\n",
        "0001-10-09\n",
        "0001-10-10\n",
        "0001-10-11\n",
        "0001-10-12\n",
        "0001-10-13\n",
        "0001-10-14\n",
        "0001-10-15\n",
        "0001-10-16\n",
        "0001-10-17\n",
        "0001-10-18\n",
        "0001-10-19\n",
        "0001-10-20\n",
        "0001-10-21\n",
        "0001-10-22\n",
        "0001-10-23\n",
        "0001-10-24\n",
        "0001-10-25\n",
        "0001-10-26\n",
        "0001-10-27\n",
        "0001-10-28\n",
        "0001-10-29\n",
        "0001-10-30\n",
        "0001-10-31\n",
        "0001-11-01\n",
        "0001-11-02\n",
        "0001-11-03\n",
        "0001-11-04\n",
        "0001-11-05\n",
        "0001-11-06\n",
        "0001-11-07\n",
        "0001-11-08\n",
        "0001-11-09\n",
        "0001-11-10\n",
        "0001-11-11\n",
        "0001-11-12\n",
        "0001-11-13\n",
        "0001-11-14\n",
        "0001-11-15\n",
        "0001-11-16\n",
        "0001-11-17\n",
        "0001-11-18\n",
        "0001-11-19\n",
        "0001-11-20\n",
        "0001-11-21\n",
        "0001-11-22\n",
        "0001-11-23\n",
        "0001-11-24\n",
        "0001-11-25\n",
        "0001-11-26\n",
        "0001-11-27\n",
        "0001-11-28\n",
        "0001-11-29\n",
        "0001-11-30\n",
        "0001-11-31\n",
        "0001-12-01\n",
        "0001-12-02\n",
        "0001-12-03\n",
        "0001-12-04\n",
        "0001-12-05\n",
        "0001-12-06\n",
        "0001-12-07\n",
        "0001-12-08\n",
        "0001-12-09\n",
        "0001-12-10\n",
        "0001-12-11\n",
        "0001-12-12\n",
        "0001-12-13\n",
        "0001-12-14\n",
        "0001-12-15\n",
        "0001-12-16\n",
        "0001-12-17\n",
        "0001-12-18\n",
        "0001-12-19\n",
        "0001-12-20\n",
        "0001-12-21\n",
        "0001-12-22\n",
        "0001-12-23\n",
        "0001-12-24\n",
        "0001-12-25\n",
        "0001-12-26\n",
        "0001-12-27\n",
        "0001-12-28\n",
        "0001-12-29\n",
        "0001-12-30\n",
        "0001-12-31\n"
       ]
      }
     ],
     "prompt_number": 17
    },
    {
     "cell_type": "code",
     "collapsed": false,
     "input": [
      "x = \"foo\"+ str(2)\n",
      "print x"
     ],
     "language": "python",
     "metadata": {},
     "outputs": [
      {
       "output_type": "stream",
       "stream": "stdout",
       "text": [
        "foo2\n"
       ]
      }
     ],
     "prompt_number": 14
    },
    {
     "cell_type": "code",
     "collapsed": false,
     "input": [
      "ls"
     ],
     "language": "python",
     "metadata": {},
     "outputs": [
      {
       "output_type": "stream",
       "stream": "stdout",
       "text": [
        "check_julian_date.ipynb  make_release.ipynb          plot_global.ipynb\r\n",
        "check_scaling.ipynb      NATL_spinup.ipynb           Untitled0.ipynb\r\n",
        "cms_prep.ipynb           plot_CMS_output_test.ipynb\r\n"
       ]
      }
     ],
     "prompt_number": 19
    },
    {
     "cell_type": "code",
     "collapsed": false,
     "input": [
      "# check to see if file exists\n",
      "os.path.isfile('cms_prep.ipynb')"
     ],
     "language": "python",
     "metadata": {},
     "outputs": [
      {
       "metadata": {},
       "output_type": "pyout",
       "prompt_number": 25,
       "text": [
        "True"
       ]
      }
     ],
     "prompt_number": 25
    },
    {
     "cell_type": "code",
     "collapsed": false,
     "input": [],
     "language": "python",
     "metadata": {},
     "outputs": []
    }
   ],
   "metadata": {}
  }
 ]
}